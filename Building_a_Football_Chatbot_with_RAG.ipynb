{
  "nbformat": 4,
  "nbformat_minor": 0,
  "metadata": {
    "colab": {
      "provenance": []
    },
    "kernelspec": {
      "name": "python3",
      "display_name": "Python 3"
    },
    "language_info": {
      "name": "python"
    }
  },
  "cells": [
    {
      "cell_type": "markdown",
      "source": [
        "# **Building a smart Football Chatbot with Retrieval Augmented Generation**"
      ],
      "metadata": {
        "id": "vEFMUEOpBkQ7"
      }
    },
    {
      "cell_type": "code",
      "source": [
        "from google.colab import drive\n",
        "drive.mount('/content/drive')"
      ],
      "metadata": {
        "id": "-Ehpa5829SzU"
      },
      "execution_count": null,
      "outputs": []
    },
    {
      "cell_type": "code",
      "source": [
        "import pandas as pd\n",
        "df = pd.read_parquet(\"/content/drive/MyDrive/cahiers-du-foot.parquet\")\n",
        "df.head()"
      ],
      "metadata": {
        "colab": {
          "base_uri": "https://localhost:8080/",
          "height": 677
        },
        "id": "xue-KiJEnou3",
        "outputId": "00bdee89-e64a-411b-f6e6-0f5650e93977"
      },
      "execution_count": null,
      "outputs": [
        {
          "output_type": "execute_result",
          "data": {
            "text/plain": [
              "                                         id  \\\n",
              "0  e87eab6f1590ae84ec703e69560050a27520c3c7   \n",
              "1  7da6704ac94ca568abd5672f5ea9b69c97459905   \n",
              "2  d18d429b29215e22226fe45b41f4c9da7f96fbe5   \n",
              "3  0be54a662620cf8eceabbaab5bf93c5ef2b84cca   \n",
              "4  a9c29f8754bfd657d16f2c66be05ed5b22aec032   \n",
              "\n",
              "                                               title  \\\n",
              "0  Tourner les pages du football brésilien - Les ...   \n",
              "1  Materazzi sans les lazzi - Les Cahiers du foot...   \n",
              "2  Calcio : A History of Italian Football - Les C...   \n",
              "3  Madjer 1987, maître talon - Les Cahiers du foo...   \n",
              "4  Hateley 1984, une tête au-dessus - Les Cahiers...   \n",
              "\n",
              "                                                 url  \\\n",
              "0  https://www.cahiersdufootball.net/article/tour...   \n",
              "1  https://www.cahiersdufootball.net/article/marc...   \n",
              "2  https://www.cahiersdufootball.net/article/calc...   \n",
              "3  https://www.cahiersdufootball.net/article/madj...   \n",
              "4  https://www.cahiersdufootball.net/article/un-j...   \n",
              "\n",
              "                                     article_summary  \\\n",
              "0  Bibliothèque – Éloge de l’esquive et Futebol, ...   \n",
              "1  Passe en retraite - À quarante-et-un ans, Marc...   \n",
              "2  Bibliothèque – Le portrait précis et passionné...   \n",
              "3  Un jour un but – Le 27 mai 1987 à Vienne, l'Al...   \n",
              "4  Un jour, un but – Le 28 octobre 1984, Mark Hat...   \n",
              "\n",
              "                                        article_body  \n",
              "0  Éloge de l'esquive Comme beaucoup de personnes...  \n",
              "1  Il pouvait difficilement en être autrement. Le...  \n",
              "2  S’il est un football auquel on prête des stéré...  \n",
              "3  La logique voulait que cette trente-deuxième f...  \n",
              "4  Mark Hateley arrive au Milan AC en 1984, en pr...  "
            ],
            "text/html": [
              "\n",
              "  <div id=\"df-9ed066f1-9af6-4759-a505-5e587ad75401\" class=\"colab-df-container\">\n",
              "    <div>\n",
              "<style scoped>\n",
              "    .dataframe tbody tr th:only-of-type {\n",
              "        vertical-align: middle;\n",
              "    }\n",
              "\n",
              "    .dataframe tbody tr th {\n",
              "        vertical-align: top;\n",
              "    }\n",
              "\n",
              "    .dataframe thead th {\n",
              "        text-align: right;\n",
              "    }\n",
              "</style>\n",
              "<table border=\"1\" class=\"dataframe\">\n",
              "  <thead>\n",
              "    <tr style=\"text-align: right;\">\n",
              "      <th></th>\n",
              "      <th>id</th>\n",
              "      <th>title</th>\n",
              "      <th>url</th>\n",
              "      <th>article_summary</th>\n",
              "      <th>article_body</th>\n",
              "    </tr>\n",
              "  </thead>\n",
              "  <tbody>\n",
              "    <tr>\n",
              "      <th>0</th>\n",
              "      <td>e87eab6f1590ae84ec703e69560050a27520c3c7</td>\n",
              "      <td>Tourner les pages du football brésilien - Les ...</td>\n",
              "      <td>https://www.cahiersdufootball.net/article/tour...</td>\n",
              "      <td>Bibliothèque – Éloge de l’esquive et Futebol, ...</td>\n",
              "      <td>Éloge de l'esquive Comme beaucoup de personnes...</td>\n",
              "    </tr>\n",
              "    <tr>\n",
              "      <th>1</th>\n",
              "      <td>7da6704ac94ca568abd5672f5ea9b69c97459905</td>\n",
              "      <td>Materazzi sans les lazzi - Les Cahiers du foot...</td>\n",
              "      <td>https://www.cahiersdufootball.net/article/marc...</td>\n",
              "      <td>Passe en retraite - À quarante-et-un ans, Marc...</td>\n",
              "      <td>Il pouvait difficilement en être autrement. Le...</td>\n",
              "    </tr>\n",
              "    <tr>\n",
              "      <th>2</th>\n",
              "      <td>d18d429b29215e22226fe45b41f4c9da7f96fbe5</td>\n",
              "      <td>Calcio : A History of Italian Football - Les C...</td>\n",
              "      <td>https://www.cahiersdufootball.net/article/calc...</td>\n",
              "      <td>Bibliothèque – Le portrait précis et passionné...</td>\n",
              "      <td>S’il est un football auquel on prête des stéré...</td>\n",
              "    </tr>\n",
              "    <tr>\n",
              "      <th>3</th>\n",
              "      <td>0be54a662620cf8eceabbaab5bf93c5ef2b84cca</td>\n",
              "      <td>Madjer 1987, maître talon - Les Cahiers du foo...</td>\n",
              "      <td>https://www.cahiersdufootball.net/article/madj...</td>\n",
              "      <td>Un jour un but – Le 27 mai 1987 à Vienne, l'Al...</td>\n",
              "      <td>La logique voulait que cette trente-deuxième f...</td>\n",
              "    </tr>\n",
              "    <tr>\n",
              "      <th>4</th>\n",
              "      <td>a9c29f8754bfd657d16f2c66be05ed5b22aec032</td>\n",
              "      <td>Hateley 1984, une tête au-dessus - Les Cahiers...</td>\n",
              "      <td>https://www.cahiersdufootball.net/article/un-j...</td>\n",
              "      <td>Un jour, un but – Le 28 octobre 1984, Mark Hat...</td>\n",
              "      <td>Mark Hateley arrive au Milan AC en 1984, en pr...</td>\n",
              "    </tr>\n",
              "  </tbody>\n",
              "</table>\n",
              "</div>\n",
              "    <div class=\"colab-df-buttons\">\n",
              "\n",
              "  <div class=\"colab-df-container\">\n",
              "    <button class=\"colab-df-convert\" onclick=\"convertToInteractive('df-9ed066f1-9af6-4759-a505-5e587ad75401')\"\n",
              "            title=\"Convert this dataframe to an interactive table.\"\n",
              "            style=\"display:none;\">\n",
              "\n",
              "  <svg xmlns=\"http://www.w3.org/2000/svg\" height=\"24px\" viewBox=\"0 -960 960 960\">\n",
              "    <path d=\"M120-120v-720h720v720H120Zm60-500h600v-160H180v160Zm220 220h160v-160H400v160Zm0 220h160v-160H400v160ZM180-400h160v-160H180v160Zm440 0h160v-160H620v160ZM180-180h160v-160H180v160Zm440 0h160v-160H620v160Z\"/>\n",
              "  </svg>\n",
              "    </button>\n",
              "\n",
              "  <style>\n",
              "    .colab-df-container {\n",
              "      display:flex;\n",
              "      gap: 12px;\n",
              "    }\n",
              "\n",
              "    .colab-df-convert {\n",
              "      background-color: #E8F0FE;\n",
              "      border: none;\n",
              "      border-radius: 50%;\n",
              "      cursor: pointer;\n",
              "      display: none;\n",
              "      fill: #1967D2;\n",
              "      height: 32px;\n",
              "      padding: 0 0 0 0;\n",
              "      width: 32px;\n",
              "    }\n",
              "\n",
              "    .colab-df-convert:hover {\n",
              "      background-color: #E2EBFA;\n",
              "      box-shadow: 0px 1px 2px rgba(60, 64, 67, 0.3), 0px 1px 3px 1px rgba(60, 64, 67, 0.15);\n",
              "      fill: #174EA6;\n",
              "    }\n",
              "\n",
              "    .colab-df-buttons div {\n",
              "      margin-bottom: 4px;\n",
              "    }\n",
              "\n",
              "    [theme=dark] .colab-df-convert {\n",
              "      background-color: #3B4455;\n",
              "      fill: #D2E3FC;\n",
              "    }\n",
              "\n",
              "    [theme=dark] .colab-df-convert:hover {\n",
              "      background-color: #434B5C;\n",
              "      box-shadow: 0px 1px 3px 1px rgba(0, 0, 0, 0.15);\n",
              "      filter: drop-shadow(0px 1px 2px rgba(0, 0, 0, 0.3));\n",
              "      fill: #FFFFFF;\n",
              "    }\n",
              "  </style>\n",
              "\n",
              "    <script>\n",
              "      const buttonEl =\n",
              "        document.querySelector('#df-9ed066f1-9af6-4759-a505-5e587ad75401 button.colab-df-convert');\n",
              "      buttonEl.style.display =\n",
              "        google.colab.kernel.accessAllowed ? 'block' : 'none';\n",
              "\n",
              "      async function convertToInteractive(key) {\n",
              "        const element = document.querySelector('#df-9ed066f1-9af6-4759-a505-5e587ad75401');\n",
              "        const dataTable =\n",
              "          await google.colab.kernel.invokeFunction('convertToInteractive',\n",
              "                                                    [key], {});\n",
              "        if (!dataTable) return;\n",
              "\n",
              "        const docLinkHtml = 'Like what you see? Visit the ' +\n",
              "          '<a target=\"_blank\" href=https://colab.research.google.com/notebooks/data_table.ipynb>data table notebook</a>'\n",
              "          + ' to learn more about interactive tables.';\n",
              "        element.innerHTML = '';\n",
              "        dataTable['output_type'] = 'display_data';\n",
              "        await google.colab.output.renderOutput(dataTable, element);\n",
              "        const docLink = document.createElement('div');\n",
              "        docLink.innerHTML = docLinkHtml;\n",
              "        element.appendChild(docLink);\n",
              "      }\n",
              "    </script>\n",
              "  </div>\n",
              "\n",
              "\n",
              "<div id=\"df-ac67b410-edb0-4186-a9f1-2f38d8360013\">\n",
              "  <button class=\"colab-df-quickchart\" onclick=\"quickchart('df-ac67b410-edb0-4186-a9f1-2f38d8360013')\"\n",
              "            title=\"Suggest charts\"\n",
              "            style=\"display:none;\">\n",
              "\n",
              "<svg xmlns=\"http://www.w3.org/2000/svg\" height=\"24px\"viewBox=\"0 0 24 24\"\n",
              "     width=\"24px\">\n",
              "    <g>\n",
              "        <path d=\"M19 3H5c-1.1 0-2 .9-2 2v14c0 1.1.9 2 2 2h14c1.1 0 2-.9 2-2V5c0-1.1-.9-2-2-2zM9 17H7v-7h2v7zm4 0h-2V7h2v10zm4 0h-2v-4h2v4z\"/>\n",
              "    </g>\n",
              "</svg>\n",
              "  </button>\n",
              "\n",
              "<style>\n",
              "  .colab-df-quickchart {\n",
              "      --bg-color: #E8F0FE;\n",
              "      --fill-color: #1967D2;\n",
              "      --hover-bg-color: #E2EBFA;\n",
              "      --hover-fill-color: #174EA6;\n",
              "      --disabled-fill-color: #AAA;\n",
              "      --disabled-bg-color: #DDD;\n",
              "  }\n",
              "\n",
              "  [theme=dark] .colab-df-quickchart {\n",
              "      --bg-color: #3B4455;\n",
              "      --fill-color: #D2E3FC;\n",
              "      --hover-bg-color: #434B5C;\n",
              "      --hover-fill-color: #FFFFFF;\n",
              "      --disabled-bg-color: #3B4455;\n",
              "      --disabled-fill-color: #666;\n",
              "  }\n",
              "\n",
              "  .colab-df-quickchart {\n",
              "    background-color: var(--bg-color);\n",
              "    border: none;\n",
              "    border-radius: 50%;\n",
              "    cursor: pointer;\n",
              "    display: none;\n",
              "    fill: var(--fill-color);\n",
              "    height: 32px;\n",
              "    padding: 0;\n",
              "    width: 32px;\n",
              "  }\n",
              "\n",
              "  .colab-df-quickchart:hover {\n",
              "    background-color: var(--hover-bg-color);\n",
              "    box-shadow: 0 1px 2px rgba(60, 64, 67, 0.3), 0 1px 3px 1px rgba(60, 64, 67, 0.15);\n",
              "    fill: var(--button-hover-fill-color);\n",
              "  }\n",
              "\n",
              "  .colab-df-quickchart-complete:disabled,\n",
              "  .colab-df-quickchart-complete:disabled:hover {\n",
              "    background-color: var(--disabled-bg-color);\n",
              "    fill: var(--disabled-fill-color);\n",
              "    box-shadow: none;\n",
              "  }\n",
              "\n",
              "  .colab-df-spinner {\n",
              "    border: 2px solid var(--fill-color);\n",
              "    border-color: transparent;\n",
              "    border-bottom-color: var(--fill-color);\n",
              "    animation:\n",
              "      spin 1s steps(1) infinite;\n",
              "  }\n",
              "\n",
              "  @keyframes spin {\n",
              "    0% {\n",
              "      border-color: transparent;\n",
              "      border-bottom-color: var(--fill-color);\n",
              "      border-left-color: var(--fill-color);\n",
              "    }\n",
              "    20% {\n",
              "      border-color: transparent;\n",
              "      border-left-color: var(--fill-color);\n",
              "      border-top-color: var(--fill-color);\n",
              "    }\n",
              "    30% {\n",
              "      border-color: transparent;\n",
              "      border-left-color: var(--fill-color);\n",
              "      border-top-color: var(--fill-color);\n",
              "      border-right-color: var(--fill-color);\n",
              "    }\n",
              "    40% {\n",
              "      border-color: transparent;\n",
              "      border-right-color: var(--fill-color);\n",
              "      border-top-color: var(--fill-color);\n",
              "    }\n",
              "    60% {\n",
              "      border-color: transparent;\n",
              "      border-right-color: var(--fill-color);\n",
              "    }\n",
              "    80% {\n",
              "      border-color: transparent;\n",
              "      border-right-color: var(--fill-color);\n",
              "      border-bottom-color: var(--fill-color);\n",
              "    }\n",
              "    90% {\n",
              "      border-color: transparent;\n",
              "      border-bottom-color: var(--fill-color);\n",
              "    }\n",
              "  }\n",
              "</style>\n",
              "\n",
              "  <script>\n",
              "    async function quickchart(key) {\n",
              "      const quickchartButtonEl =\n",
              "        document.querySelector('#' + key + ' button');\n",
              "      quickchartButtonEl.disabled = true;  // To prevent multiple clicks.\n",
              "      quickchartButtonEl.classList.add('colab-df-spinner');\n",
              "      try {\n",
              "        const charts = await google.colab.kernel.invokeFunction(\n",
              "            'suggestCharts', [key], {});\n",
              "      } catch (error) {\n",
              "        console.error('Error during call to suggestCharts:', error);\n",
              "      }\n",
              "      quickchartButtonEl.classList.remove('colab-df-spinner');\n",
              "      quickchartButtonEl.classList.add('colab-df-quickchart-complete');\n",
              "    }\n",
              "    (() => {\n",
              "      let quickchartButtonEl =\n",
              "        document.querySelector('#df-ac67b410-edb0-4186-a9f1-2f38d8360013 button');\n",
              "      quickchartButtonEl.style.display =\n",
              "        google.colab.kernel.accessAllowed ? 'block' : 'none';\n",
              "    })();\n",
              "  </script>\n",
              "</div>\n",
              "\n",
              "    </div>\n",
              "  </div>\n"
            ],
            "application/vnd.google.colaboratory.intrinsic+json": {
              "type": "dataframe",
              "variable_name": "df",
              "summary": "{\n  \"name\": \"df\",\n  \"rows\": 10707,\n  \"fields\": [\n    {\n      \"column\": \"id\",\n      \"properties\": {\n        \"dtype\": \"string\",\n        \"num_unique_values\": 10707,\n        \"samples\": [\n          \"4cccf2f8be80bd8818ad63606a966d6d832b9acc\",\n          \"e66b51ff1062070d747a0ed95d7a50ec8caba503\",\n          \"455b9e0d3236209ebd0820fe3b126ff47ebaad16\"\n        ],\n        \"semantic_type\": \"\",\n        \"description\": \"\"\n      }\n    },\n    {\n      \"column\": \"title\",\n      \"properties\": {\n        \"dtype\": \"category\",\n        \"num_unique_values\": 3508,\n        \"samples\": [\n          \"13 preuves que France-Angleterre \\u00e9tait un match surnaturel - Les Cahiers du football || magazine de foot et d'eau fra\\u00eeche\",\n          \"Un bon polder - Les Cahiers du football || magazine de foot et d'eau fra\\u00eeche\",\n          \"Supporters : \\u00ab Rendre la parole \\u00e0 des gens invisibilis\\u00e9s \\u00bb - Les Cahiers du football || magazine de foot et d'eau fra\\u00eeche\"\n        ],\n        \"semantic_type\": \"\",\n        \"description\": \"\"\n      }\n    },\n    {\n      \"column\": \"url\",\n      \"properties\": {\n        \"dtype\": \"string\",\n        \"num_unique_values\": 10707,\n        \"samples\": [\n          \"https://www.cahiersdufootball.net/article/cadeau-fiscal-pour-footballeur-francais-8239defavorise8239-3371\",\n          \"https://www.cahiersdufootball.net/article/cacamiseta-2018-les-candidats-6896\",\n          \"https://www.cahiersdufootball.net/article/treve-charogne-3142?page=2\"\n        ],\n        \"semantic_type\": \"\",\n        \"description\": \"\"\n      }\n    },\n    {\n      \"column\": \"article_summary\",\n      \"properties\": {\n        \"dtype\": \"category\",\n        \"num_unique_values\": 3402,\n        \"samples\": [\n          \"Le duel entre Manchester City et Barcelone, l'utilit\\u00e9 de Miroslav Klose, la d\\u00e9fense \\u00e0 trois de l'OM, la flexibilit\\u00e9 du Bayern, le roi Diego, les arbitres de surface... Et m\\u00eame J\\u00e9r\\u00e9my Morel.\",\n          \"Dans l'affaire des faux passeports comme dans celle de Strasbourg-Metz, la Commission f\\u00e9d\\u00e9rale d'appel \\u00e9tait la troisi\\u00e8me instance \\u00e0 rendre son verdict. Mais la situation avait d\\u00e9j\\u00e0 tourn\\u00e9 \\u00e0 l'absurde et rien ne pouvait plus la sauver...\",\n          \"D\\u00e9mode d'emploi \\u2013 Les interdictions de d\\u00e9placement se multiplient, mais les supporters d\\u00e9veloppent des m\\u00e9thodes pour y \\u00e9chapper.\"\n        ],\n        \"semantic_type\": \"\",\n        \"description\": \"\"\n      }\n    },\n    {\n      \"column\": \"article_body\",\n      \"properties\": {\n        \"dtype\": \"category\",\n        \"num_unique_values\": 3337,\n        \"samples\": [\n          \"Ce 3-1 prend \\u00e9videmment le relief suppl\\u00e9mentaire des deux points perdus par l'Espagne contre la Finlande, et elle constitue une pr\\u00e9paration assez parfaite du sommet de mardi. Une fois le score acquis, il a \\u00e9t\\u00e9 plus facile d'y voir aussi un mod\\u00e8le de gestion de match, mais les G\\u00e9orgiens ont failli planter un coup de poignard \\u00e0 la 28e minute dont l'\\u00e9quipe de France aurait pu peiner \\u00e0 se remettre. On note m\\u00eame que Giroud a marqu\\u00e9, juste avant la pause, au terme de la meilleure p\\u00e9riode des Rouges. Ces derniers choisirent ensuite de ne plus \\u00eatre dangereux.... jusqu'\\u00e0 leur but. Leur capacit\\u00e9 \\u00e0, soudainement, se mettre \\u00e0 jouer n'aura cependant pas contrebalanc\\u00e9 la constante pression des Bleus, qui les a fait logiquement c\\u00e9der. La nalyse : le 4-4-2 fait les paires Deschamps a opt\\u00e9 pour un sch\\u00e9ma \\u00e0 deux attaquants auquel il n'avait plus recouru depuis... son premier match en tant que s\\u00e9lectionneur, contre l'Uruguay en ao\\u00fbt (0-0). Au Havre, le quatuor offensif avait \\u00e9t\\u00e9 exactement le m\\u00eame qu'hier soir, mais pour le reste, seuls Lloris et Sakho (associ\\u00e9 \\u00e0 Yanga Mbiwa) figuraient dans le onze de d\\u00e9part: Gonalons et Mavuba formaient le duo de milieux d\\u00e9fensifs, \\u00c9vra et Debuchy la paire de lat\\u00e9raux. Dans ce 4-4-2 bien ancr\\u00e9 autour de Matuidi et Pogba, les Fran\\u00e7ais ont efficacement neutralis\\u00e9 leurs adversaires, non sans laisser quelques br\\u00e8ches sur les c\\u00f4t\\u00e9s, qui ont mis... la d\\u00e9fense centrale en difficult\\u00e9. Avec Valbuena et Rib\\u00e9ry en verve, l'animation a \\u00e9t\\u00e9 satisfaisante en d\\u00e9pit du flou dans le placement des deux attaquants, et d'un manque chronique de vitesse: au moins une pr\\u00e9sence significative a-t-elle \\u00e9t\\u00e9 assur\\u00e9e devant le but, tout en assurant quelque profondeur dans le jeu. Leurs permutations ont g\\u00ean\\u00e9 l'arri\\u00e8re-garde rouge, et leur force de percussion des milieux offensifs a fait l'essentiel de la diff\\u00e9rence. Ce sont eux qui ont \\u00e9t\\u00e9 \\u00e0 la finition: Valbuena a obtenu le coup franc du premier but et l'a bien d\\u00e9livr\\u00e9 \\u00e0 Giroud, il inscrit le second et sert id\\u00e9alement Rib\\u00e9ry pour le troisi\\u00e8me, d'une magistrale passe en profondeur. Malgr\\u00e9 les imperfections, l'\\u00e9quipe de Deschamps a pos\\u00e9 des bases solides pour le rendez-vous de mardi: l'\\u00e9quipe a travaill\\u00e9, engrang\\u00e9 de la confiance et soign\\u00e9 son efficacit\\u00e9, Matuidi et Valbuena ont pu souffler... Ce sera une autre histoire contre l'Espagne, mais ce prologue donne quelques motifs d'optimisme que la Roja peut envier aux Bleus. Les observations en vrac Il est quand m\\u00eame normal que l'on tarde un peu \\u00e0 admettre que Valbuena est le successeur de Kopa, Platini et Zidane. On s'attendait \\u00e0 une reprise de Woodkhidze, mais rien. Nouvelle variante de l'effet papillon: comment un \\u00e9ditorial \\u00e0 la con mine la confiance d'un attaquant international. Cinqui\\u00e8me anniversaire de la mort de Thierry Gilardi. Si on a encore de la peine, c'est aussi parce que cela fait cinq ans que l'on subit son successeur. La pelouse \\u00e9tait correcte, mais les G\\u00e9orgiens auraient pr\\u00e9f\\u00e9r\\u00e9 jouer sur du stabilidz\\u00e9. Les gars Lloris a d\\u00fb \\u00eatre d\\u00e9cisif pour sa premi\\u00e8re intervention majeure, bien plac\\u00e9 sur la t\\u00eate d'Amisulashvili (28e), avant de sortir en corner une frappe terrible de Kobakhidze (41e). C'est ce dernier qui r\\u00e9ussira \\u00e0 le tromper, aid\\u00e9 par une l\\u00e9g\\u00e8re d\\u00e9viation de Varane sur son tir. On verra dans les difficult\\u00e9s ponctuelles de Sakho et Varane \\u00e0 \\u00e9teindre quelques d\\u00e9parts de feu le signe d'une entente encore insuffisante. Amisulashvili r\\u00e9ussit \\u00e0 placer sa t\\u00eate entre eux deux, et le Parisien est \\u00e0 la peine sur le but. \\u00c0 l'aise, le Madril\\u00e8ne est cependant rest\\u00e9 sur la r\\u00e9serve, sans prendre de grandes responsabilit\\u00e9s dans ses relances et ses remont\\u00e9es de balle. Cette rencontre n'\\u00e9tait pas id\\u00e9ale pour briller, compte tenu de la pr\\u00e9sence sporadique des G\\u00e9orgiens dans les trente m\\u00e8tres fran\\u00e7ais. Jallet a centr\\u00e9 avec r\\u00e9gularit\\u00e9, mais avec peu de bonheur, tandis que Clichy a pr\\u00e9f\\u00e9r\\u00e9 utiliser sa vitesse placer quelques rushes qui ont fait des d\\u00e9g\\u00e2ts, comme celui qui lui permet de servir id\\u00e9alement Benzema (37e). On a pu appr\\u00e9cier le volume aussi bien que la vari\\u00e9t\\u00e9 du jeu de Matuidi et Pogba , qui ont efficacement fait barrage aux initiatives g\\u00e9orgiennes tout en jouant intelligemment vers l'avant. Le Parisien a trop enlev\\u00e9 une frappe en bonne position (13e), et Turinois bien pivot\\u00e9 pour adresser un tir qui a malheureusement \\u00e9chou\\u00e9 dans les bras de Loria (26e). Rib\\u00e9ry a entam\\u00e9 la rencontre avec une belle frappe sur la transversale (6e), puis piqu\\u00e9 un peu trop sa vol\\u00e9e pour inqui\\u00e9ter Loria (17e). Comme \\u00e0 son habitude, il a souvent cherch\\u00e9 Benzema (55e, 65e), sans oublier Giroud pour autant (35e). Un joli match, un peu \\u00e9clips\\u00e9 par la prestation de Valbuena , qui a distribu\\u00e9 les caviars: il offre des occasions \\u00e0 Benzema (frappe enroul\\u00e9e, 25e), Giroud (lob rat\\u00e9, 30e) et bien s\\u00fbr Rib\\u00e9ry avec une ouverture spontan\\u00e9e pour le but de ce dernier (61e). Le Marseillais a parachev\\u00e9 sa belle prestation d'un but de l'ext\\u00e9rieur du droit. En panne manifeste de confiance, Benzema a rat\\u00e9 presque tous les gestes qui auraient pu lui permettre d'inverser le (mauvais) sort: un enroul\\u00e9 trop faiblard (25e), un centre rat\\u00e9 sur un contre (28e), une vol\\u00e9e du gauche grossi\\u00e8rement rip\\u00e9e sur un service de Clichy (37e). Plus de pr\\u00e9cision, mais pas plus de r\\u00e9ussite avec un tir repouss\\u00e9 par Loria (55e), et toujours autant de tergiversations alors qu'il \\u00e9tait en bonne position quelques minutes plus tard (65e). Il conclut par une frappe d\\u00e9viss\\u00e9e (88e). Encore faut-il noter qu'il n'a pas renonc\\u00e9 et s'est investi dans le collectif... Trop ambitieux sur un lob de l'ext\\u00e9rieur face au gardien (30e), Giroud s'est rattrap\\u00e9 de la plus simple des mani\\u00e8res, avec un coup de t\\u00eate id\\u00e9alement plac\\u00e9: hors de port\\u00e9e du gardien et juste avant la pause. Il n'a pas \\u00e9norm\\u00e9ment combin\\u00e9 avec ses partenaires, mais a inflig\\u00e9 sa pr\\u00e9sence physique \\u00e0 la d\\u00e9fense g\\u00e9orgienne. Les entrants ont rempli des missions simples: Sissoko a assur\\u00e9 la domination dans l'entrejeu, R\\u00e9my offert de la profondeur au moment ou la G\\u00e9orgie tentait de revenir, et M\\u00e9nez tent\\u00e9 de profiter des derni\\u00e8res opportunit\\u00e9 d'\\u00e9largir le score. \\u00c9quipe de France : encore un gamin apeur\\u00e9 menac\\u00e9 par un ca\\u00efd immature. Vu du forum =>> l'homme de la pampa - 21h10 C'est pile poil la couleur du maillot de Manchester City. Comme \\u00e7a Nasri n'est pas d\\u00e9pays\\u00e9 : en club comme en s\\u00e9lection, ben... il ne joue pas. =>> \\u00d4 Mexico - 21h13 Il aurait peut-\\u00eatre \\u00e9t\\u00e9 utile sur ce match, Yannmvili. =>> vert75 - \\u00e0 21h46 Le vol de Valbuena m'a fait penser \\u00e0 un bug sur FIFA12. =>> Rh\\u00f4nealpinho - 21h48 Mathieu Valbuena est quand m\\u00eame le premier nain qui s'auto-lance. =>> dugamaniac - 22h31 L\\u00e0 je pense que Deschamps a \\u00e9t\\u00e9 un peu pr\\u00e9somptueux, et le but g\\u00e9orgien nous le d\\u00e9montre. Il faut faire rentrer de nouveau Valbuena. =>> sansai - \\u00e0 22h36 Oh mon dieu, J\\u00e9r\\u00e9my Menez a souri \\u00e0 Franck Rib\\u00e9ry. =>> Jay-jay Tolosa - 22h41 Il est pas mal ce Jallet-le-centre, il joue ou? =>> I want my Mionnet back 22/03/2013 \\u00e0 22h43 Je ne sais pas mais il combine souvent avec S\\u00e9tantouche. =>> djay-Guevara - 00h47 Dites, en fait le choix entre Adidas et Nike, c'\\u00e9tait donc entre design affreux et couleurs immondes?\",\n          \"Les d\\u00e9fauts et contradictions de l'arbitrage vid\\u00e9o sont si nombreux qu'on peine \\u00e0 les recenser, ce que j'ai cependant tent\\u00e9 de faire dans mon nouveau livre [1]. On peut toutefois difficilement en imaginer preuve plus \\u00e9clatante que l'accident qui, \\u00e0 la fin de Tunisie-France du r\\u00e9cent Mondial, a vu TF1 rendre l'antenne sur un faux r\\u00e9sultat. \\u00c0 la fin de ce match, la structure m\\u00eame des programmes de t\\u00e9l\\u00e9vision, cadr\\u00e9s \\u00e0 la minute, voire \\u00e0 la seconde pr\\u00e8s, selon des imp\\u00e9ratifs implacables - notamment li\\u00e9s \\u00e0 la diffusion des spots de publicit\\u00e9 - a alors explos\\u00e9 (occasionnellement) sous l'impact de la VAR. Celle-ci est un pur produit de la t\\u00e9l\\u00e9vision, hors de laquelle elle n'existerait pas. Sans \\u00eatre les seules, les images t\\u00e9l\\u00e9 sont tr\\u00e8s largement la source des pseudo-preuves que la VAR est cens\\u00e9e apporter. L'\\u00e9crasante majorit\\u00e9 des gens de t\\u00e9l\\u00e9vision sont, depuis des d\\u00e9cennies, impr\\u00e9gn\\u00e9s par l'id\\u00e9ologie de leur m\\u00e9dia et favorables \\u00e0 l'arbitrage vid\\u00e9o. Et cela sans r\\u00e9fl\\u00e9chir deux minutes, d'une part aux effets concrets que celui-ci aurait sur le jeu de football lui-m\\u00eame (qui est une source intarissable - jusqu'\\u00e0 pr\\u00e9sent - de faramineuses audiences et recettes pour les cha\\u00eenes), d'autre part de son impact sur la composition des grilles de programmes. La t\\u00e9l\\u00e9vision en somme, c'est le Bien et la Force, l'Image c'est la V\\u00e9rit\\u00e9. Sauf que... Matthew Conger annule le but inscrit par Antoine Griezmann \\u00e0 la fin de France-Tunisie. Couac majeur Nombre de prospecteurs de profit travaillent aux modalit\\u00e9s d'introduction des pauses publicitaires pendant les matches et les arr\\u00eats de jeu li\\u00e9s \\u00e0 la VAR. Que cette logique-l\\u00e0 - tout remplir avec de la pub, y compris les interruptions varesques - soit brutalement contredite par un \\u00e9v\\u00e9nement impr\\u00e9vu d\\u00e9passe l'imagination de ces profiteurs-l\\u00e0. Un but marqu\\u00e9 \\u00e0 la derni\\u00e8re seconde d'un match, une faute signal\\u00e9e \\u00e0 la derni\\u00e8re minute d'une mi-temps, et voil\\u00e0 le syst\\u00e8me pris les doigts dans le pot de confiture. Tunisie-France : Griezmann marque \\u00e0 la derni\\u00e8re seconde. TF1, riv\\u00e9e au lancement de ses spots de pub, rend l'antenne et l'arbitrage vid\\u00e9o entre en piste : but annul\\u00e9 pour hors-jeu. Le 1-1 se transforme en 1-0 ! Magique. Ce n'est pas tous les jours que TF1 rend l'antenne sur un score erron\\u00e9, qui plus est de l'\\u00e9quipe de France, sa manne favorite. Le probl\\u00e8me va bien au-del\\u00e0 de ce couac majeur. Dans le m\\u00eame temps o\\u00f9 les dignitaires du foot (FIFA surtout) vantent abusivement ses m\\u00e9rites, la VAR, d'une certaine fa\\u00e7on, s'\\u00e9mancipe et, en outre, la comptabilisation des arr\\u00eats de jeu - dont ceux qu'elle provoque - prend son envol. Largement mise en place pour plaire \\u00e0 la t\\u00e9l\\u00e9vision et satisfaire le culte actuel et inconsid\\u00e9r\\u00e9 de l'image dans le public, la VAR vient ici contredire de plein fouet ses instigateurs. C'est L'Apprenti sorcier version foot Les arr\\u00eats de jeu dus \\u00e0 l'examen des images repr\\u00e9sentaient d\\u00e9j\\u00e0, en soi, un prolongement sensible des matches - de 3, 4 minutes, surtout lorsque l'arbitre central d\\u00e9cidait d'aller v\\u00e9rifier l'action par lui-m\\u00eame sur l'\\u00e9cran vid\\u00e9o du stade. C'\\u00e9tait encore relativement g\\u00e9rable, bien que malais\\u00e9, pour les t\\u00e9l\\u00e9visions. Mais enfin, pr\\u00e9voir des prolongations voire des tirs au but n'\\u00e9tait d\\u00e9j\\u00e0 pas un cadeau et la t\\u00e9l\\u00e9 en avait pris son parti bon gr\\u00e9 mal gr\\u00e9, quitte \\u00e0 supprimer (ou reporter) les programmes suivants annonc\\u00e9s. Ce n'\\u00e9tait pas du tout la logique habituelle de la t\\u00e9l\\u00e9vision mais bon, \\\"Priorit\\u00e9 au direct\\\" entend-on souvent sur les antennes Segmentation publicitaire Prolongations et tirs au but : l'exercice \\u00e9tait compliqu\\u00e9 malgr\\u00e9 tout pour des grilles de programme qui alors - et malgr\\u00e9 leur nom - ne ma\\u00eetrisaient plus grand-chose. Et voil\\u00e0 que la FIFA d\\u00e9cida, avant ce Mondial 2022, de tenir compte davantage des arr\\u00eats de jeu autres que ceux dus \\u00e0 la VAR, ce qui d\\u00e9boucha sur des mini-prolongations de fait allant jusqu'\\u00e0 dix minutes. Le but non-avou\\u00e9 de la prise en compte de ces pauses est le glissement op\\u00e9r\\u00e9 par la FIFA vers la notion de temps de jeu effectif , centrale au football am\\u00e9ricain mais dont on ne devine que trop ais\\u00e9ment les cons\\u00e9quences pour notre football : tron\\u00e7onner les matches en une succession de segments entre lesquels la pub \\u00e9voluera \\u00e0 son aise... non sans risques . Le nouveau mode de calcul du temps additionnel n'est d'ailleurs pas franchement limpide, et il a tendu \\u00e0 diminuer au fil de cette Coupe du monde. Leur dur\\u00e9e serait donc extensible Quels arr\\u00eats, au juste, sont pris en compte et en fonction de quoi ? Myst\\u00e8re. Selon une \\u00e9tude de 2018 , les coups francs et les remises en jeu (touches, coups de pied de but) sont les plus chronophages. Pierluigi Collina, pr\\u00e9sident de la commission des arbitres de la FIFA a aussi \\u00e9voqu\\u00e9, en conf\\u00e9rence de presse peu avant le Mondial, les temps de remplacements, de penalties, de c\\u00e9l\\u00e9bration, de soins m\\u00e9dicaux et de VAR. L'\\u00e9volution du foot vers la segmentation publicitaire a \\u00e9t\\u00e9 bien identifi\\u00e9e par l'ancien arbitre international Tony Chapron : il y voit m\\u00eame un facteur essentiel dans la naissance de la VAR : \\\"Cette supercherie technologique m'a amen\\u00e9 \\u00e0 me demander d'o\\u00f9 vient le VAR. J'ai trouv\\u00e9 son point d'ancrage : la World Cup aux \\u00c9tats-Unis en 1994. Le comit\\u00e9 d'organisation avait demand\\u00e9 l'instauration de quart-temps pour passer de la pub, comme dans les sports am\\u00e9ricains () J'y vois bien les pr\\u00e9misses de tout \\u00e7a.\\\" [2]. R\\u00e9formes non ma\\u00eetris\\u00e9es La FIFA semble se moquer comme de sa premi\\u00e8re chemise (en soie) que le public du football se lasse de ce magnifique jeu, priv\\u00e9 qu'il sera alors de ce qui fait, entre autres, son charme puissant : sa fluidit\\u00e9. Les \\\"hauts\\\" dirigeants de la FIFA, en premier lieu son pr\\u00e9sident Gianni Infantino, d\\u00e9sormais r\\u00e9sident du Qatar - c'est plus pratique pour d\\u00e9molir le foot - vident donc all\\u00e8grement le tas d'or sur lequel ils sont assis en toute inconscience et stupidit\\u00e9. Ainsi va le monde du football. Plus le football se soumet \\u00e0 la t\\u00e9l\\u00e9vision, plus il g\\u00e9n\\u00e8re des cons\\u00e9quences redoutables pour lui-m\\u00eame, mais aussi pour les cha\\u00eenes ; des effets ind\\u00e9sirables, difficiles \\u00e0 contr\\u00f4ler, devenus comme autonomes. Ne pas pr\\u00e9voir, ne pas r\\u00e9fl\\u00e9chir, ne pas d\\u00e9battre, c'est mourir. N'\\u00eatre int\\u00e9ress\\u00e9 que par l'argent imm\\u00e9diat c'est mourir aussi. Gianni Infantino est \\u00e0 ce jour tellement content de lui et loin de la r\\u00e9alit\\u00e9 du jeu qu'il risque de sentir plus vite qu'il ne le croit le vent du boulet, incapable qu'il est de vouloir comprendre et percevoir les glissements de plaques tectoniques qui menacent le foot. Il en sera une des premi\\u00e8res victimes. Mise en place de la VAR et nouveau calcul du temps additionnel marquent une diff\\u00e9rence de nature et une r\\u00e9gression par rapport aux changements de r\\u00e8gles des ann\\u00e9es 1990 [3]. Celles-ci renfor\\u00e7aient la fluidit\\u00e9 du jeu alors que la VAR, outre qu'elle fait entrer de plain-pied la t\\u00e9l\\u00e9vision dans l'arbitrage officiel du foot (ce qui n'est pas rien !) la met en p\\u00e9ril. La prise en compte accrue des arr\\u00eats de jeu augmente encore le temps additionnel et donc l'incertitude quant \\u00e0 la dur\\u00e9e des matches. D'un c\\u00f4t\\u00e9 les instances du foot sont outrageusement d\\u00e9pendantes de la t\\u00e9l\\u00e9vision, de l'autre elles lui posent de s\\u00e9rieux probl\\u00e8mes de gestion de leurs grilles des programmes. Nous ne sommes pas encore arriv\\u00e9s au \\\"temps de jeu effectif\\\" \\u00e0 l'am\\u00e9ricaine, mais le processus est en marche. D'ici l\\u00e0, un empirisme g\\u00e9ant et des incidents aussi absurdes que cocasses (cf. France-Tunisie et Fribourg-Mayence de Bundesliga en 2018) vont r\\u00e9gner. De ce marais d'incertitudes et de r\\u00e9formes non ma\\u00eetris\\u00e9es, dans quel \\u00e9tat sortira le football ? [1] La mauvaise farce de l'arbitrage vid\\u00e9o , \\u00e9d. Librinova, 2022. [2] France Football , 28 janvier 2020. [3] Pas plus de six secondes pour le d\\u00e9gagement du gardien, interdiction pour celui-ci de prendre \\u00e0 la main la passe d'un co\\u00e9quipier, nombreux ballons disponibles autour du terrain, sanction plus s\\u00e9v\\u00e8re des actes d'antijeu, sortie du joueur ayant n\\u00e9cessit\\u00e9 l'intervention des soigneurs, etc.\",\n          \"La trajectoire est l\\u00e9g\\u00e8re comme un soir d'\\u00e9t\\u00e9. Touche pour les Jaunes que joue rapidement Cauet. Il donne \\u00e0 Loko, qui contr\\u00f4le de la poitrine et l\\u2019envoie vers Pedros d\\u2019un retourn\\u00e9. Cela se passe sur l\\u2019aile droite, au coin de la surface de r\\u00e9paration. Le ballon d\\u00e9j\\u00e0 ne touche plus le sol. Reynald Pedros s'envole \\u2013 au sens propre \\u2013 et caresse la balle de l'int\\u00e9rieur de son pied gauche. Dans l'arri\\u00e8re-garde parisienne, les deux-trois d\\u00e9fenseurs de faction voient le ballon voler au-dessus de leurs t\\u00eates et courent dans tous les sens. La rugissement de la Beaujoire La balle parvient jusqu'\\u00e0 Patrice Loko, lanc\\u00e9 seul dans de la surface. L'attaquant nantais n'a plus qu'\\u00e0 contr\\u00f4ler, dribbler le gardien et ouvrir le score. Mais ce serait trop simple, un peu trop cart\\u00e9sien pour parachever un tel moment de magie. L'instant commande de tenter autre chose: par exemple reprendre ce ballon de plein fouet, histoire d'inscrire un but encore plus beau. Au risque, peut-\\u00eatre, de tout g\\u00e2cher, d'envoyer le ballon dans les nuages. Mais Loko sait qu'il ne risque rien. Le ballon est entr\\u00e9 dans un tel encha\\u00eenement qu\\u2019il ne peut finir ailleurs qu\\u2019au fond des filets. Alors Loko frappe la balle, comme elle vient, de l'ext\\u00e9rieur du pied droit. La trajectoire sublime, partie de cette touche de Cauet, illumin\\u00e9e par le pied gauche de Pedros et parachev\\u00e9e par l\\u2019ext\\u00e9rieur de Loko, se termine dans la lucarne parisienne. \\\"C\\u2019est fa-bu-leux\\\", s\\u2019exclame le commentateur TV. Le stade de la Beaujoire rugit de plaisir tandis que les joueurs nantais se congratulent. Bernard Lama, le gardien parisien, n'a plus qu'\\u00e0 aller chercher au fond de sa cage un ballon enfin rendu aux lois de l'attraction terrestre. C'\\u00e9tait au c\\u0153ur du mois d'ao\\u00fbt 1994. Le vendredi 19, une belle soir\\u00e9e d'\\u00e9t\\u00e9, rafra\\u00eechie par une averse dans l\\u2019apr\\u00e8s-midi. Nantes-PSG, cinqui\\u00e8me journ\\u00e9e du championnat de France. Score final : 1-0, but de Loko \\u00e0 la 18e minute. \\\"Un but venu d\\u2019ailleurs\\\" titrera L'\\u00c9quipe le lendemain. Venu d\\u2019ailleurs, vraiment? Certes, le cot\\u00e9 a\\u00e9rien de l\\u2019action n\\u2019est pas courant sur les bords de l\\u2019Erdre. Mais cela reste un but profond\\u00e9ment nantais en ce qu'il associe vitesse d\\u2019ex\\u00e9cution et inspiration collective. Avant les arabesques de Pedros et Loko, il faut rembobiner l\\u2019action jusqu\\u2019au ballon que le d\\u00e9fenseur parisien Francis Llacer met en touche. O\\u00f9 l\\u2019on voit Benoit Cauet se pr\\u00e9cipiter, attraper le ballon en plein vol et l\\u2019envoyer vers Loko. On voit aussi le bras de Pedros qui indique la marche \\u00e0 suivre \\u00e0 Cauet. Certifi\\u00e9 \\\"\\u00e0 la nantaise\\\" Il y a quelque chose de minutieusement pr\\u00e9par\\u00e9 dans cette action. Quelques principes que les joueurs respectent \\u00e0 la lettre, et qu\\u2019ils magnifient avec l\\u2019inspiration du moment. C\\u2019est dans ce sens que l\\u2019action peut \\u00eatre certifi\\u00e9e du label \\\"Jeu \\u00e0 la nantaise\\\". L\\u2019expression est encore tr\\u00e8s pertinente \\u00e0 l\\u2019\\u00e9poque. Le FC Nantes, toujours \\u00e0 sec financi\\u00e8rement, retrouve les sommets du foot fran\\u00e7ais avec des joueurs de son cru, qu\\u2019il a model\\u00e9 lui-m\\u00eame en leur inculquant l\\u2019intelligence collective et la science du d\\u00e9placement. Ces joueurs sont lanc\\u00e9s ensemble dans le grand bain en 1992, quand l\\u2019\\u00e9quipe doit compenser le d\\u00e9part de ses gros salaires. Trois ans plus tard, ils s\\u2019imposent avec un brin d\\u2019insolence sur tous les terrains du championnat de France et alignent une impressionnante s\\u00e9rie de trente-trois rencontres sans en perdre une seule. Jean-Claude Suaudeau est le ma\\u00eetre d\\u2019\\u0153uvre de ce FC Nantes fin de si\\u00e8cle. Le coach nantais a p\\u00e9rennis\\u00e9 les conceptions de Jos\\u00e9 Arribas, le mythique entra\\u00eeneur des ann\\u00e9es soixante. Coco, c\\u2019est son surnom, avait touch\\u00e9 une forme de pl\\u00e9nitude en 1983 lorsqu\\u2019il conduisit le FCN des Bossis, Tour\\u00e9 et Halilhod\\u017ei? au titre de champion. Une d\\u00e9cennie plus tard, il a su adapter ses principes au caract\\u00e8re explosif de la nouvelle g\\u00e9n\\u00e9ration, celle de Pedros, Loko, Karembeu et Ou\\u00e9dec. Il sacrifie la possession du ballon, ch\\u00e8re aux champions de 1983, pour pratiquer plus volontiers la contre-attaque. Lorsque le PSG perd le ballon sur un corner, il est imm\\u00e9diatement envoy\\u00e9 loin devant par Christian Karembeu. Cela ressemble \\u00e0 n\\u2019importe quoi, mais le d\\u00e9gagement du d\\u00e9fenseur nantais trouve Reynald Pedros en position id\\u00e9ale. Francis Llacer parviendra \\u00e0 interrompre l\\u2019attaque en mettant en touche. Une touche que jouera rapidement Cauet\\u2026 Le ballet de Loko et Pedros, la touche rapide de Cauet, le d\\u00e9gagement de Karembeu, c\\u2019est l\\u2019expression du football de Suaudeau: un jeu faussement na\\u00eff, des couleurs chatoyantes, un ballon qui chante au milieu d'une chor\\u00e9graphie joyeuse et l\\u00e9g\\u00e8re. Jean-Claude Suaudeau, dit Coco de Nantes, c'est un peu Jacques Demy, un autre illustre nantais dont le jeu suscita autant d\\u2019enchantements que de critiques. Ce 14 ao\\u00fbt 1994, o\\u00f9 Loko marqua son but lumineux face au PSG, Jean-Claude Suaudeau s'est lev\\u00e9 de son banc et a plong\\u00e9 dans les bras ouverts de son adjoint. Rarement l'a-t-on vu manifester autant de joie.\"\n        ],\n        \"semantic_type\": \"\",\n        \"description\": \"\"\n      }\n    }\n  ]\n}"
            }
          },
          "metadata": {},
          "execution_count": 3
        }
      ]
    },
    {
      "cell_type": "code",
      "source": [
        "!pip install langchain-azure-ai langchain-milvus"
      ],
      "metadata": {
        "id": "EHj-RtN8LgOJ"
      },
      "execution_count": null,
      "outputs": []
    },
    {
      "cell_type": "markdown",
      "source": [
        "### **Connecting to Azure AI Service**"
      ],
      "metadata": {
        "id": "_g4RnpjaDGUK"
      }
    },
    {
      "cell_type": "code",
      "source": [
        "import os\n",
        "\n",
        "# API Configuration\n",
        "inference = os.environ.get(\"INFERENCE_ENDPOINT\")\n",
        "apikey = os.environ.get(\"API_KEY\")\n",
        "embedding_model_name = \"text-embedding-3-small\"\n",
        "chat_model_name = \"gpt-4o\" # model_name in [\"Phi-4\", \"gpt-4o\", \"DeepSeek-R1\", \"Mistral-Nemo\"]"
      ],
      "metadata": {
        "id": "RdkkiNLOlp08"
      },
      "execution_count": null,
      "outputs": []
    },
    {
      "cell_type": "markdown",
      "source": [
        "### **Loading Azure AI Models**"
      ],
      "metadata": {
        "id": "3RjzdFG4C0r3"
      }
    },
    {
      "cell_type": "code",
      "source": [
        "from langchain_azure_ai.chat_models import AzureAIChatCompletionsModel\n",
        "from langchain_azure_ai.embeddings import AzureAIEmbeddingsModel\n",
        "\n",
        "# --- 1. Initialize the Azure AI Models ---\n",
        "\n",
        "try:\n",
        "    # --- 1.a) Initialize Chat Model ---\n",
        "    chat_model = AzureAIChatCompletionsModel(\n",
        "        endpoint=inference,\n",
        "        credential=apikey,\n",
        "        model_name=chat_model_name,\n",
        "    )\n",
        "    print(\"Chat Model initialized successfully.\")\n",
        "\n",
        "    # --- 1.b) Initialize Embeddings Model ---\n",
        "    embeddings_model = AzureAIEmbeddingsModel(\n",
        "        endpoint=inference,\n",
        "        credential=apikey,\n",
        "        model_name=embedding_model_name,\n",
        "    )\n",
        "    print(\"Embeddings Model initialized successfully.\")\n",
        "\n",
        "except Exception as e:\n",
        "    print(f\"An error occurred during initialization: {e}\")"
      ],
      "metadata": {
        "colab": {
          "base_uri": "https://localhost:8080/"
        },
        "id": "QJn3Jenkl5c6",
        "outputId": "09866316-1551-479e-d8c7-fb39a8920c1e"
      },
      "execution_count": null,
      "outputs": [
        {
          "output_type": "stream",
          "name": "stdout",
          "text": [
            "Chat Model initialized successfully.\n",
            "Embeddings Model initialized successfully.\n"
          ]
        }
      ]
    },
    {
      "cell_type": "markdown",
      "source": [
        "### **Initializing Milvus vector database**"
      ],
      "metadata": {
        "id": "mIX_o1xzDUi1"
      }
    },
    {
      "cell_type": "code",
      "source": [
        "from langchain_milvus import Milvus\n",
        "\n",
        "# --- 2. Connect to Milvus ---\n",
        "\n",
        "vectorstore = Milvus(\n",
        "    embedding_function=embeddings_model,\n",
        "    connection_args={\"uri\" : \"/content/drive/MyDrive/milvus-cahiers-du-foot.db\"}\n",
        ")\n",
        "\n",
        "print(\"Milvus vectorstore loaded successfully.\")"
      ],
      "metadata": {
        "colab": {
          "base_uri": "https://localhost:8080/"
        },
        "id": "W45NqBs9lsWD",
        "outputId": "ccb85889-de91-4034-92bc-910646eb304d"
      },
      "execution_count": null,
      "outputs": [
        {
          "output_type": "stream",
          "name": "stdout",
          "text": [
            "Milvus vectorstore loaded successfully.\n"
          ]
        }
      ]
    },
    {
      "cell_type": "markdown",
      "source": [
        "### **Implementing the RAG Arquitecture**"
      ],
      "metadata": {
        "id": "Zgyh40quC5IK"
      }
    },
    {
      "cell_type": "code",
      "source": [
        "from langchain_core.messages import AIMessage, HumanMessage, SystemMessage\n",
        "from langchain_core.prompts import ChatPromptTemplate, MessagesPlaceholder\n",
        "\n",
        "# --- 3. RAG Arquitecture ---\n",
        "\n",
        "# --- 3.a) Retrieves relevant documents from the vectorstore for a given query. ---\n",
        "def get_relevant_documents(vectorstore, query, k=7):\n",
        "    \"\"\"Retrieves relevant documents from the vectorstore for a given query.\"\"\"\n",
        "    retriever = vectorstore.as_retriever(search_type=\"similarity\", search_kwargs={\"k\": k})\n",
        "    retrieved_docs = retriever.invoke(query)\n",
        "    return retrieved_docs\n",
        "\n",
        "\n",
        "# --- 3.b) Assembles the chat prompt with the system message and documents. ---\n",
        "def create_chat_prompt(retrieved_docs, question):\n",
        "    \"\"\"Assembles the chat prompt with the system message and documents.\"\"\"\n",
        "    document_content = \"\\n\\n\".join(doc.page_content for doc in retrieved_docs)\n",
        "\n",
        "    prompt_template = \"\"\"You are a document analyst specializing in football (soccer) articles.\n",
        "        The user will submit a question and provide you with relevant excerpts from football articles.\n",
        "        Your task is to answer the question based ONLY on the information in these excerpts. Be concise and clear and list your sources at the end of each section.\n",
        "        If the provided excerpts do not contain the answer, or if the question is not related to football,\n",
        "        respond with \"I don't know\".\n",
        "        Assume the user knows basic football terminology, no need to explain basic concepts.\n",
        "        Answer in English.\n",
        "\n",
        "        Specifically, for questions asking for a summary of different viewpoints, you MUST identify the various opinions expressed in the documents and present them as bullet points. Each bullet point should clearly state the opinion and be supported by information from the provided excerpts. Be as objective as possible, representing each viewpoint accurately.\n",
        "\n",
        "        Here are excerpts from football articles:\\n\\n{context}\n",
        "\n",
        "        Here is the question:\\n\\n{question}\n",
        "    \"\"\"\n",
        "\n",
        "    prompt = ChatPromptTemplate.from_template(prompt_template)\n",
        "    messages = prompt.format_messages(context=document_content, question=question)\n",
        "\n",
        "    return messages\n",
        "\n",
        "\n",
        "# --- 3.c) Invokes the chat model and returns the response. ---\n",
        "def generate_chat_response(model, messages):\n",
        "    \"\"\"Invokes the chat model and returns the response.\"\"\"\n",
        "    try:\n",
        "        answer = model.invoke(messages)\n",
        "        return answer.content\n",
        "    except Exception as e:\n",
        "        print(f\"Error during model invocation: {e}\")\n",
        "        return \"Error generating response.\"\n",
        "\n",
        "\n",
        "# --- 3.d) Formats the answer to include the sources (article titles/URLs). ---\n",
        "def format_response(answer, retrieved_docs):\n",
        "    \"\"\"Formats the answer to include the sources (article titles/URLs) used.\"\"\"\n",
        "    if \"I don't know\" in answer:\n",
        "        return answer\n",
        "\n",
        "    source_list = []\n",
        "    for doc in retrieved_docs:\n",
        "        source_str = \"\"\n",
        "        title = doc.metadata.get('title')\n",
        "        url = doc.metadata.get('url')\n",
        "        if title:\n",
        "            source_str += f\"Title: {title}\"\n",
        "        else:\n",
        "            source_str += \"Title not found\"\n",
        "        if url:\n",
        "            if source_str:\n",
        "                source_str += \", \"\n",
        "            source_str += f\"URL: {url}\"\n",
        "        else:\n",
        "            source_str += \", URL not found\"\n",
        "        if source_str:\n",
        "            source_list.append(source_str)\n",
        "\n",
        "    if source_list:\n",
        "        sources = \"\\nSources:\\n\" + \"\\n\".join(source_list)\n",
        "        return f\"{answer}\\n{sources}\"\n",
        "    else:\n",
        "        return f\"{answer}\\nNo Sources Found\""
      ],
      "metadata": {
        "id": "2SsTHAfF59pW"
      },
      "execution_count": null,
      "outputs": []
    },
    {
      "cell_type": "markdown",
      "source": [
        "### **Executing the RAG Pipeline**"
      ],
      "metadata": {
        "id": "cP4kKoG-EBY0"
      }
    },
    {
      "cell_type": "code",
      "source": [
        "# --- 4. Main RAG Pipeline Function ---\n",
        "def rag_pipeline(vectorstore, question):\n",
        "    \"\"\"\n",
        "    Performs the entire RAG pipeline: retrieves documents, translates if needed,\n",
        "    assembles the prompt, invokes the chat model, and formats the answer.\n",
        "    \"\"\"\n",
        "    try:\n",
        "        retrieved_docs = get_relevant_documents(vectorstore, question)\n",
        "        messages = create_chat_prompt(retrieved_docs, question)\n",
        "        answer = generate_chat_response(chat_model, messages)\n",
        "        final_answer = format_response(answer, retrieved_docs)\n",
        "        return final_answer\n",
        "\n",
        "    except Exception as e:\n",
        "        print(f\"Error in RAG pipeline: {e}\")"
      ],
      "metadata": {
        "id": "JC8x6FlkmE0E"
      },
      "execution_count": null,
      "outputs": []
    },
    {
      "cell_type": "markdown",
      "source": [
        "### **Testing the Chatbot**"
      ],
      "metadata": {
        "id": "XqMpqjV5DwJz"
      }
    },
    {
      "cell_type": "code",
      "source": [
        "# --- 5. Testing the RAG Architecture ---\n",
        "\n",
        "# --- Example Usage 1 ---\n",
        "question = \"Summarize in bullet points the point of view on the usage of video assisted refereeing ?\"\n",
        "answer = rag_pipeline(vectorstore, question)\n",
        "print(answer)"
      ],
      "metadata": {
        "colab": {
          "base_uri": "https://localhost:8080/"
        },
        "id": "Y45Ux58vHThT",
        "outputId": "8b1f0c5e-b65b-4a5e-b58b-eb30f42d3104"
      },
      "execution_count": null,
      "outputs": [
        {
          "output_type": "stream",
          "name": "stdout",
          "text": [
            "- **Video Assisted Refereeing (VAR) usage is inconsistent and problematic**: Either VAR is used excessively, interrupting the flow of matches, or it is scarcely employed, making its expanded implementation seem unnecessary. This inconsistency creates a fundamental issue in collective sports.  \n",
            "  - Source: Provided excerpt.\n",
            "\n",
            "- **Training of video referees is questioned**: There is a suggestion that video referees may require better training to address the challenges and inconsistencies in VAR application.  \n",
            "  - Source: Provided excerpt.\n",
            "\n",
            "- **The issue of VAR is deemed insoluble**: The article expresses skepticism regarding finding a viable solution to VAR's inconsistent application in football.  \n",
            "  - Source: Provided excerpt.\n",
            "\n",
            "Sources:\n",
            "Title: Vidéo : le rugby dans l’engrenage - Les Cahiers du football || magazine de foot et d'eau fraîche, URL: https://www.cahiersdufootball.net/article/arbitrage-video-le-rugby-dans-l-engrenage-5005?page=2\n",
            "Title: Vidéo : le rugby dans l’engrenage - Les Cahiers du football || magazine de foot et d'eau fraîche, URL: https://www.cahiersdufootball.net/article/arbitrage-video-le-rugby-dans-l-engrenage-5005\n",
            "Title: Vidéo : le rugby dans l’engrenage - Les Cahiers du football || magazine de foot et d'eau fraîche, URL: https://www.cahiersdufootball.net/article/arbitrage-video-le-rugby-dans-l-engrenage-5005?page=1\n",
            "Title: Vidéo : le rugby dans l’engrenage - Les Cahiers du football || magazine de foot et d'eau fraîche, URL: https://www.cahiersdufootball.net/article/arbitrage-video-le-rugby-dans-l-engrenage-5005?page=5\n",
            "Title: Vidéo : le rugby dans l’engrenage - Les Cahiers du football || magazine de foot et d'eau fraîche, URL: https://www.cahiersdufootball.net/article/arbitrage-video-le-rugby-dans-l-engrenage-5005?page=6\n",
            "Title: Vidéo : le rugby dans l’engrenage - Les Cahiers du football || magazine de foot et d'eau fraîche, URL: https://www.cahiersdufootball.net/article/arbitrage-video-le-rugby-dans-l-engrenage-5005?page=3\n",
            "Title: Vidéo : le rugby dans l’engrenage - Les Cahiers du football || magazine de foot et d'eau fraîche, URL: https://www.cahiersdufootball.net/article/arbitrage-video-le-rugby-dans-l-engrenage-5005?page=4\n"
          ]
        }
      ]
    },
    {
      "cell_type": "code",
      "source": [
        "# --- Example Usage 2 ---\n",
        "question = \"What are the main topics or themes covered in the articles on Les Cahiers du Football website?\"\n",
        "answer = rag_pipeline(vectorstore, question)\n",
        "print(answer)"
      ],
      "metadata": {
        "colab": {
          "base_uri": "https://localhost:8080/"
        },
        "id": "4P1a5Vo9SIqA",
        "outputId": "e5b874dd-fb56-4ba1-dea5-bceac28456d5"
      },
      "execution_count": null,
      "outputs": [
        {
          "output_type": "stream",
          "name": "stdout",
          "text": [
            "Based on the provided excerpts, the main topics or themes covered in the articles on *Les Cahiers du Football* website include:\n",
            "\n",
            "- **Seasonal Journal and Football News**: Chronicling small and major events (“faits et méfaits”) in football throughout the season. This includes humorous and critical analysis of football happenings.\n",
            "  - Source: \"En fil rouge, un journal de la saison , chronique des petits et des grands faits (méfaits compris) de la trépidante actu du football.\"\n",
            "\n",
            "- **Stats and Categorization**: Focus on intriguing statistics and “footballégories,” offering data-driven reflections and classifications regarding football.\n",
            "  - Source: \"des stats choisies, des footballégories.\"\n",
            "\n",
            "- **Special Euro Coverage**: Dedicated sections focusing on the Euro football tournament.\n",
            "  - Source: \"Bien sûr, un cahier spécial Euro achève l'ouvrage.\"\n",
            "\n",
            "- **Critical Opinions on Players and Teams**: Articles that critically analyze players (e.g., Bafétimbi Gomis described as \"l’escroquerie à 15 millions\"), and possibly teams, often with sharp commentary.\n",
            "  - Source: \"Gomis, l’escroquerie à 15 millions.\"\n",
            "\n",
            "- **Humor and Satirical Content**: Incorporation of “Diaporama,” forums, and “brèves” that likely include witty and satirical commentary on football-related topics.\n",
            "  - Source: \"Le Déclarama , un best-of du Diaporama , du forum et des brèves.\"\n",
            "\n",
            "- **Miscellaneous Football Discussions**: Lost leads (“pas mal de balles perdues”) and a mix of previously unpublished articles, suggesting a broad range of content spanning lighter topics to in-depth analysis.\n",
            "  - Source: \"25 articles quasiment tous inédits... et pas mal de balles perdues.\"\n",
            "\n",
            "Sources:\n",
            "- Excerpts 1–5 (Repeated wording across excerpts). \n",
            "- football365.fr reference to Les Cahiers du Football.\n",
            "\n",
            "Sources:\n",
            "Title: Un bon lien vaut mieux que deux tu l'auras - Les Cahiers du football || magazine de foot et d'eau fraîche, URL: https://www.cahiersdufootball.net/article/liens-1485\n",
            "Title: Un bon lien vaut mieux que deux tu l'auras - Les Cahiers du football || magazine de foot et d'eau fraîche, URL: https://www.cahiersdufootball.net/article/un-bon-lien-vaut-mieux-que-deux-tu-lauras-1485\n",
            "Title: Les Cahiers de la saison 2015/2016 - Les Cahiers du football || magazine de foot et d'eau fraîche, URL: https://www.cahiersdufootball.net/article/les-cahiers-de-la-saison-20152016-6398?page=3\n",
            "Title: Les Cahiers de la saison 2015/2016 - Les Cahiers du football || magazine de foot et d'eau fraîche, URL: https://www.cahiersdufootball.net/article/les-cahiers-de-la-saison-20152016-6398?page=2\n",
            "Title: Les Cahiers de la saison 2015/2016 - Les Cahiers du football || magazine de foot et d'eau fraîche, URL: https://www.cahiersdufootball.net/article/les-cahiers-de-la-saison-20152016-6398\n",
            "Title: Les Cahiers de la saison 2015/2016 - Les Cahiers du football || magazine de foot et d'eau fraîche, URL: https://www.cahiersdufootball.net/article/les-cahiers-de-la-saison-20152016-6398?page=1\n",
            "Title: Le comité de vigilance médiatique: best of hebdo - Les Cahiers du football || magazine de foot et d'eau fraîche, URL: https://www.cahiersdufootball.net/article/le-comite-de-vigilance-mediatique-best-of-hebdo-3850\n"
          ]
        }
      ]
    },
    {
      "cell_type": "code",
      "source": [
        "# --- Example Usage 3 ---\n",
        "question = \"Explain the concept of manifest destiny\"\n",
        "answer = rag_pipeline(vectorstore, question)\n",
        "print(answer)"
      ],
      "metadata": {
        "colab": {
          "base_uri": "https://localhost:8080/"
        },
        "id": "t0z5TwwqndWD",
        "outputId": "0c7fadd8-3609-4f43-92fc-056596eaa2f0"
      },
      "execution_count": null,
      "outputs": [
        {
          "output_type": "stream",
          "name": "stdout",
          "text": [
            "I don't know.\n"
          ]
        }
      ]
    },
    {
      "cell_type": "markdown",
      "source": [
        "### **EXTRA --> Avanced RAG Arquitecture: Query Expansion and Relevance Implementation**"
      ],
      "metadata": {
        "id": "eJUcqOubmPg8"
      }
    },
    {
      "cell_type": "code",
      "source": [
        "# --- 6. Advanced RAG Arquitecture ---\n",
        "\n",
        "from langchain.prompts import PromptTemplate\n",
        "from langchain.chains import LLMChain\n",
        "\n",
        "# --- 6.a) Query Expansion Implementation (using LLM) ---\n",
        "def create_query_expansion_chain(llm):\n",
        "    \"\"\"Creates a chain to expand the user query with related keywords.\"\"\"\n",
        "    prompt_template = \"\"\"You are an expert at expanding search queries.\n",
        "    The user will provide a search query related to football (soccer).\n",
        "    Your task is to expand the query by adding relevant keywords and synonyms to improve search results.\n",
        "    Return the expanded query.\n",
        "\n",
        "    Original Query: {query}\n",
        "    Expanded Query:\"\"\"\n",
        "    prompt = PromptTemplate(template=prompt_template, input_variables=[\"query\"])\n",
        "    return LLMChain(llm=llm, prompt=prompt, output_key=\"expanded_query\")\n",
        "\n",
        "\n",
        "# --- 6.b) Relevance Scoring Implementation (using LLM) ---\n",
        "def score_document_relevance(document, query, llm):\n",
        "    \"\"\"Scores the relevance of a document to a query using an LLM.\"\"\"\n",
        "    prompt_template = \"\"\"You are an expert at determining the relevance of a document to a search query.\n",
        "    The user will provide a document and a query.\n",
        "    Your task is to score the relevance of the document to the query on a scale of 1 to 10, where 1 is not relevant and 10 is highly relevant.\n",
        "    Justification: (Explain why you gave the score).\n",
        "    Relevance Score: (Score)\n",
        "\n",
        "    Document: {document}\n",
        "    Query: {query}\n",
        "    \"\"\"\n",
        "    prompt = PromptTemplate(template=prompt_template, input_variables=[\"document\", \"query\"])\n",
        "    chain = LLMChain(llm=llm, prompt=prompt, output_key=\"relevance_score\")\n",
        "    return chain\n",
        "\n",
        "\n",
        "# --- 6.c) Modified Main RAG Pipeline Function ---\n",
        "def advanced_rag_pipeline(vectorstore, question, llm):\n",
        "    \"\"\"Performs RAG with query expansion and relevance scoring.\"\"\"\n",
        "    try:\n",
        "        expansion_chain = create_query_expansion_chain(llm)\n",
        "        expanded_query = expansion_chain.run(question)\n",
        "        print(f\"Expanded Query: {expanded_query}\")\n",
        "\n",
        "        retrieved_docs = get_relevant_documents(vectorstore, expanded_query)\n",
        "        scored_docs = []\n",
        "        for doc in retrieved_docs:\n",
        "            scoring_chain = score_document_relevance(document=doc.page_content, query=question, llm=llm)\n",
        "            score_results = scoring_chain.run(document=doc.page_content, query=question)\n",
        "            try:\n",
        "                relevance_score = int(score_results.split(\"(Score:\")[-1].strip(\")\\n\"))\n",
        "            except:\n",
        "                relevance_score = 5\n",
        "            scored_docs.append((doc, relevance_score))\n",
        "\n",
        "        relevant_docs = [doc for doc, score in scored_docs if score >= 7]\n",
        "        messages = create_chat_prompt(relevant_docs, question)\n",
        "        answer = generate_chat_response(llm, messages)\n",
        "        final_answer = format_response(answer, relevant_docs)\n",
        "\n",
        "    except Exception as e:\n",
        "        print(f\"Error in RAG pipeline: {e}\")\n",
        "        return \"Error generating response.\"\n",
        "\n",
        "    source_list = []\n",
        "    for doc in relevant_docs:\n",
        "        source_str = \"\"\n",
        "        title = doc.metadata.get('title')\n",
        "        url = doc.metadata.get('url')\n",
        "        if title:\n",
        "            source_str += f\"Title: {title}\"\n",
        "        else:\n",
        "            source_str += \"Title not found\"\n",
        "        if url:\n",
        "            if source_str:\n",
        "                source_str += \", \"\n",
        "            source_str += f\"URL: {url}\"\n",
        "        else:\n",
        "            source_str += \", URL not found\"\n",
        "        if source_str:\n",
        "            source_list.append(source_str)\n",
        "\n",
        "    if source_list:\n",
        "        sources = \"\\nSources:\\n\" + \"\\n\".join(source_list)\n",
        "        return f\"{final_answer}\\n{sources}\"\n",
        "    else:\n",
        "        return final_answer"
      ],
      "metadata": {
        "id": "7IBXDC7YIUo8"
      },
      "execution_count": null,
      "outputs": []
    },
    {
      "cell_type": "code",
      "source": [
        "# --- 7. Example Usage of Advanced RAG Pipeline ---\n",
        "question = \"What are the controversies around VAR in football?\"\n",
        "advanced_answer = advanced_rag_pipeline(vectorstore, question, chat_model)\n",
        "print(advanced_answer)"
      ],
      "metadata": {
        "colab": {
          "base_uri": "https://localhost:8080/"
        },
        "id": "fP_dwLX1IkAJ",
        "outputId": "ce939a05-cc94-49c1-aa32-49056659bdcf"
      },
      "execution_count": null,
      "outputs": [
        {
          "output_type": "stream",
          "name": "stderr",
          "text": [
            "<ipython-input-8-d2794872b66e>:17: LangChainDeprecationWarning: The class `LLMChain` was deprecated in LangChain 0.1.17 and will be removed in 1.0. Use :meth:`~RunnableSequence, e.g., `prompt | llm`` instead.\n",
            "  return LLMChain(llm=llm, prompt=prompt, output_key=\"expanded_query\")\n",
            "<ipython-input-8-d2794872b66e>:43: LangChainDeprecationWarning: The method `Chain.run` was deprecated in langchain 0.1.0 and will be removed in 1.0. Use :meth:`~invoke` instead.\n",
            "  expanded_query = expansion_chain.run(question)\n"
          ]
        },
        {
          "output_type": "stream",
          "name": "stdout",
          "text": [
            "Expanded Query: What are the controversies around VAR in football? | Video Assistant Referee debates in soccer | VAR issues and criticisms in football | VAR problems in soccer matches | Controversial VAR decisions in football | Arguments for and against VAR in soccer | Impact of Video Assistant Referees on football games | Disputed VAR calls in football tournaments | Technology in football refereeing challenges | VAR and refereeing controversies in soccer | Football officiating debates surrounding VAR\n",
            "- **Claim that VAR undermines the referee's authority**  \n",
            "  Some argue that VAR diminishes the authority of referees on the pitch and creates confusion about decision-making responsibilities. Referees may rely too heavily on video technology, which can lead to delays and erode trust in their judgment.\n",
            "\n",
            "- **Inconsistency in decisions made using VAR**  \n",
            "  Critics point out that VAR decisions lack consistency, with similar incidents often leading to different outcomes due to subjective interpretation. This inconsistency frustrates players, coaches, and fans, who expect fairness in decision-making.\n",
            "\n",
            "- **Interruption of the game's flow**  \n",
            "  Many fans and analysts believe that VAR disrupts the natural flow of the game by causing lengthy delays while decisions are reviewed. This interruption can detract from the viewing experience and momentum of the match.\n",
            "\n",
            "- **Controversy over ‘clear and obvious error’ threshold**  \n",
            "  The principle that VAR should only be used for \"clear and obvious errors\" is often debated. Critics argue that this threshold is inconsistently applied, sometimes overturning borderline decisions while failing to correct blatantly wrong ones.\n",
            "\n",
            "- **Disagreement about its impact on football fairness and accuracy**  \n",
            "  There are mixed opinions about whether VAR has made football fairer. While some believe it addresses major errors, others argue it has introduced new controversies and unpredictability into the game that might outweigh the benefits.\n",
            "\n",
            "Sources: Excerpts from football articles provided by user.\n",
            "No Sources Found\n"
          ]
        }
      ]
    },
    {
      "cell_type": "markdown",
      "source": [
        "## **Creating a Chatbot Interface**"
      ],
      "metadata": {
        "id": "0kwLfsN1NeXB"
      }
    },
    {
      "cell_type": "code",
      "source": [
        "!pip install gradio\n",
        "import gradio as gr\n",
        "from functools import partial"
      ],
      "metadata": {
        "collapsed": true,
        "id": "1BrHcr-UNbsq"
      },
      "execution_count": null,
      "outputs": []
    },
    {
      "cell_type": "markdown",
      "source": [
        "### **Using the Basic RAG Arquitecture**       \n",
        "\n"
      ],
      "metadata": {
        "id": "E9grX2r9pWnJ"
      }
    },
    {
      "cell_type": "code",
      "source": [
        "# Create a Gradio interface\n",
        "iface = gr.Interface(\n",
        "    fn=partial(rag_pipeline, vectorstore),\n",
        "    inputs=gr.Textbox(lines=3, placeholder=\"Ask me anything about football!\", label=\"Your Question:\"),\n",
        "    outputs=gr.Textbox(label=\"Chatbot's Answer:\", show_label=True),\n",
        "    title=\"Football Article Chatbot\",\n",
        "    description=\"Ask questions about football (soccer) articles. The chatbot will answer based on the provided excerpts.\",\n",
        "    theme=\"soft\",\n",
        "    css=\"\"\".gradio-container {background-color: #f0f2f5;}.output-textbox {font-size: 18px;}\"\"\"\n",
        ")"
      ],
      "metadata": {
        "id": "C3ZJ4Yc_okal"
      },
      "execution_count": null,
      "outputs": []
    },
    {
      "cell_type": "code",
      "source": [
        "# Launch the interface\n",
        "iface.launch(share=True)"
      ],
      "metadata": {
        "colab": {
          "base_uri": "https://localhost:8080/",
          "height": 605
        },
        "id": "F7rBubnXlg5y",
        "outputId": "fd6f16b9-eb31-4e55-bcad-eb2721b7a703"
      },
      "execution_count": null,
      "outputs": [
        {
          "output_type": "stream",
          "name": "stdout",
          "text": [
            "Colab notebook detected. To show errors in colab notebook, set debug=True in launch()\n",
            "* Running on public URL: https://8dd4086f5cadaa6709.gradio.live\n",
            "\n",
            "This share link expires in 72 hours. For free permanent hosting and GPU upgrades, run `gradio deploy` from the terminal in the working directory to deploy to Hugging Face Spaces (https://huggingface.co/spaces)\n"
          ]
        },
        {
          "output_type": "display_data",
          "data": {
            "text/plain": [
              "<IPython.core.display.HTML object>"
            ],
            "text/html": [
              "<div><iframe src=\"https://8dd4086f5cadaa6709.gradio.live\" width=\"100%\" height=\"500\" allow=\"autoplay; camera; microphone; clipboard-read; clipboard-write;\" frameborder=\"0\" allowfullscreen></iframe></div>"
            ]
          },
          "metadata": {}
        },
        {
          "output_type": "execute_result",
          "data": {
            "text/plain": []
          },
          "metadata": {},
          "execution_count": 12
        }
      ]
    },
    {
      "cell_type": "markdown",
      "source": [
        "### **Using the Advanced RAG Arquitecture**"
      ],
      "metadata": {
        "id": "6DsxgliMplh-"
      }
    },
    {
      "cell_type": "code",
      "source": [
        "# Create a Gradio interface\n",
        "iface = gr.Interface(\n",
        "    fn=partial(advanced_rag_pipeline, vectorstore, llm=chat_model),\n",
        "    inputs=gr.Textbox(lines=3, placeholder=\"Ask me anything about football!\", label=\"Your Question:\"),\n",
        "    outputs=gr.Textbox(label=\"Chatbot's Answer:\", show_label=True),\n",
        "    title=\"Football Article Chatbot (Advanced RAG)\",\n",
        "    description=\"Ask questions about football (soccer) articles. The chatbot uses query expansion and relevance scoring.\",\n",
        "    theme=\"soft\",\n",
        "    css=\"\"\".gradio-container {background-color: #f0f2f5;}.output-textbox {font-size: 18px;}\"\"\"\n",
        ")\n",
        "\n",
        "# Launch the interface\n",
        "iface.launch(share=True)"
      ],
      "metadata": {
        "colab": {
          "base_uri": "https://localhost:8080/",
          "height": 605
        },
        "id": "kMgJNVxAl3lV",
        "outputId": "4f30d0a2-44fc-4814-ff3e-ccac696fb6f9"
      },
      "execution_count": null,
      "outputs": [
        {
          "output_type": "stream",
          "name": "stdout",
          "text": [
            "Colab notebook detected. To show errors in colab notebook, set debug=True in launch()\n",
            "* Running on public URL: https://2990721dc49cc4a00d.gradio.live\n",
            "\n",
            "This share link expires in 72 hours. For free permanent hosting and GPU upgrades, run `gradio deploy` from the terminal in the working directory to deploy to Hugging Face Spaces (https://huggingface.co/spaces)\n"
          ]
        },
        {
          "output_type": "display_data",
          "data": {
            "text/plain": [
              "<IPython.core.display.HTML object>"
            ],
            "text/html": [
              "<div><iframe src=\"https://2990721dc49cc4a00d.gradio.live\" width=\"100%\" height=\"500\" allow=\"autoplay; camera; microphone; clipboard-read; clipboard-write;\" frameborder=\"0\" allowfullscreen></iframe></div>"
            ]
          },
          "metadata": {}
        },
        {
          "output_type": "execute_result",
          "data": {
            "text/plain": []
          },
          "metadata": {},
          "execution_count": 13
        }
      ]
    }
  ]
}